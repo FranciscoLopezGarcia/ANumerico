{
 "cells": [
  {
   "cell_type": "code",
   "execution_count": null,
   "metadata": {},
   "outputs": [],
   "source": [
    "def __init__(self):\n",
    "    self.result = 0\n",
    "    self.error= 0"
   ]
  },
  {
   "cell_type": "markdown",
   "metadata": {},
   "source": [
    "Este método inicializa una nueva instancia de la clase Calculator. Los atributos self.result y self.error se establecen en 0. self.result almacenará el resultado de las operaciones matemáticas y self.error almacenará el error asociado con el resultado."
   ]
  },
  {
   "cell_type": "code",
   "execution_count": null,
   "metadata": {},
   "outputs": [],
   "source": [
    "def cota_error(self, valor):\n",
    "    if valor == 0:\n",
    "        return 0\n",
    "    if isinstance(valor, int) or valor.is_integer():\n",
    "        cota_error = 0.5\n",
    "    else:\n",
    "        part = str(valor).split('.')\n",
    "        decimales = len(part[1]) if len(part) == 2 else 0\n",
    "        cota_error = 0.5 * 10 ** (-decimales)\n",
    "    return cota_error"
   ]
  },
  {
   "cell_type": "markdown",
   "metadata": {},
   "source": [
    "Calcula la cota del error para un valor dado. Si el valor es 0, la cota del error es 0 porque no hay incertidumbre en un valor exacto de cero.\n",
    "Si el valor es un número entero (ya sea tipo int o un número decimal que no tiene parte fraccionaria), la cota del error se establece en 0.5. Esta es una cota fija para números enteros, ya que se asume que el error es constante en este caso.\n",
    "Si el valor es un número decimal, se convierte a una cadena y se divide en la parte entera y decimal. Luego, se calcula la cantidad de dígitos decimales. La cota del error se calcula usando la fórmula 0.5 * 10^(-decimales), donde decimales es el número de dígitos después del punto decimal. Esto refleja la precisión del número decimal."
   ]
  },
  {
   "cell_type": "code",
   "execution_count": null,
   "metadata": {},
   "outputs": [],
   "source": [
    "def calc_basic(self, a, b, election):\n",
    "    error_a = self.cota_error(a)\n",
    "    error_b = self.cota_error(b)\n",
    "        \n",
    "    if election == '+':\n",
    "        self.result = a + b\n",
    "    elif election == '-':\n",
    "        self.result = a - b\n",
    "    self.error = error_a + error_b\n",
    "    return self.result, self.error"
   ]
  },
  {
   "cell_type": "markdown",
   "metadata": {},
   "source": [
    "Este método realiza operaciones matemáticas básicas (suma y resta). Primero, calcula la cota del error para los operandos a y b utilizando el método cota_error.\n",
    "Si la operación seleccionada (election) es una suma (+), realiza la suma de los operandos a y b y almacena el resultado en self.result. Y en caso de ser una resta (-), realiza la resta de los operandos a y b y almacena el resultado en self.result.\n",
    "Al finalizar calcula el error total como la suma de los errores individuales de los operandos a y b. Devuelve una tupla que contiene el resultado de la operación y el error total asociado con ese resultado."
   ]
  },
  {
   "cell_type": "code",
   "execution_count": null,
   "metadata": {},
   "outputs": [],
   "source": [
    " def calc_not_basic(self, a, b, election):\n",
    "        error_a = self.cota_error(a)\n",
    "        error_b = self.cota_error(b)\n",
    "        if election == '*':\n",
    "            self.result = a * b\n",
    "            self.error = ((error_a / abs(a)) + (error_b / abs(b))) * abs(self.result)\n",
    "        elif election == '/':\n",
    "            if b == 0:\n",
    "                self.result = 'Error: Division por cero'\n",
    "                self.error = 0\n",
    "            self.result = a / b\n",
    "            self.error = abs(self.result) * ((error_a / abs(a)) + (error_b / abs(b)))\n",
    "        return self.result, self.error"
   ]
  },
  {
   "cell_type": "markdown",
   "metadata": {},
   "source": [
    "Este método realiza operaciones matemáticas un poco mas complejas (multiplicación y división). Calcula la cota del error para los operandos a y b utilizando el método cota_error.\n",
    "Para la multiplicación (*), calcula el producto de a y b y almacena el resultado en self.result. Luego estima el error asociado con la multiplicación usando la fórmula ((error_a / abs(a)) + (error_b / abs(b))) * abs(self.result). Esta fórmula considera cómo el error relativo en los operandos afecta al resultado.\n",
    "Para la división (/), primero verifica si el divisor b es cero. Si b es cero, devuelve un mensaje de error y establece el error en 0, ya que la división por cero no es válida. Pero si b no es cero, realiza la división de a entre b y almacena el resultado en self.result. Luego estima el error asociado con la división usando la fórmula abs(self.result) * ((error_a / abs(a)) + (error_b / abs(b))). Esta fórmula considera cómo el error relativo en los operandos afecta al resultado."
   ]
  }
 ],
 "metadata": {
  "kernelspec": {
   "display_name": "Python 3",
   "language": "python",
   "name": "python3"
  },
  "language_info": {
   "name": "python",
   "version": "3.12.4"
  }
 },
 "nbformat": 4,
 "nbformat_minor": 2
}
